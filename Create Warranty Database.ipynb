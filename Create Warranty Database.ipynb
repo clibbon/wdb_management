{
 "cells": [
  {
   "cell_type": "markdown",
   "metadata": {},
   "source": [
    "This script creates the data base. Uses local module to populate"
   ]
  },
  {
   "cell_type": "code",
   "execution_count": 168,
   "metadata": {
    "collapsed": false
   },
   "outputs": [],
   "source": [
    "import pandas as pd\n",
    "import mysql.connector\n",
    "\n",
    "con = mysql.connector.connect(user='root', password='qqqqqq',\n",
    "                               host='127.0.0.1',database='warranties')\n",
    "cur = con.cursor()"
   ]
  },
  {
   "cell_type": "markdown",
   "metadata": {},
   "source": [
    "Insert information into the table"
   ]
  },
  {
   "cell_type": "code",
   "execution_count": 154,
   "metadata": {
    "collapsed": false
   },
   "outputs": [],
   "source": [
    "cur.execute('''DROP TABLE customers''')"
   ]
  },
  {
   "cell_type": "code",
   "execution_count": null,
   "metadata": {
    "collapsed": false
   },
   "outputs": [],
   "source": [
    "db = pd.read_sql('''SELECT * FROM customers''',con)"
   ]
  },
  {
   "cell_type": "code",
   "execution_count": 114,
   "metadata": {
    "collapsed": true
   },
   "outputs": [],
   "source": [
    "cur.execute('''ALTER TABLE importers ADD identity CHAR(30)''')"
   ]
  },
  {
   "cell_type": "code",
   "execution_count": 113,
   "metadata": {
    "collapsed": false
   },
   "outputs": [],
   "source": [
    "# View the first few columns\n",
    "db.head()\n",
    "# This is how things are committed to the database\n",
    "con.commit()"
   ]
  },
  {
   "cell_type": "markdown",
   "metadata": {
    "collapsed": true
   },
   "source": [
    "Now the same for generating the importer table, the model table. These are the master tables"
   ]
  },
  {
   "cell_type": "code",
   "execution_count": 155,
   "metadata": {
    "collapsed": false
   },
   "outputs": [],
   "source": [
    "cur.execute('''CREATE TABLE customers (\n",
    "                cID INT AUTO_INCREMENT,\n",
    "                first_name CHAR(30),\n",
    "                last_name CHAR(30),\n",
    "                mob_number CHAR(12),\n",
    "                region TINYINT,\n",
    "                PRIMARY KEY (cID)\n",
    "                )\n",
    "            ''')"
   ]
  },
  {
   "cell_type": "code",
   "execution_count": 157,
   "metadata": {
    "collapsed": false
   },
   "outputs": [],
   "source": [
    "cur.execute('''CREATE TABLE importers (\n",
    "                iID INT NOT NULL AUTO_INCREMENT,\n",
    "                identity CHAR(30),\n",
    "                PRIMARY KEY (iID)\n",
    "                )\n",
    "            ''')"
   ]
  },
  {
   "cell_type": "code",
   "execution_count": 158,
   "metadata": {
    "collapsed": false
   },
   "outputs": [],
   "source": [
    "cur.execute('''CREATE TABLE product_models (\n",
    "                mID INT AUTO_INCREMENT,\n",
    "                model CHAR(20),\n",
    "                is_verified BOOLEAN,\n",
    "                PRIMARY KEY (mID)\n",
    "                )\n",
    "            ''')"
   ]
  },
  {
   "cell_type": "code",
   "execution_count": 159,
   "metadata": {
    "collapsed": false
   },
   "outputs": [],
   "source": [
    "cur.execute('''CREATE TABLE products (\n",
    "                pID INT AUTO_INCREMENT,\n",
    "                ser_num CHAR(30),\n",
    "                model CHAR(20),\n",
    "                PRIMARY KEY (pID)\n",
    "                )\n",
    "            ''')"
   ]
  },
  {
   "cell_type": "code",
   "execution_count": 160,
   "metadata": {
    "collapsed": false
   },
   "outputs": [],
   "source": [
    "cur.execute('''CREATE TABLE product_sellers (\n",
    "                iID INT,\n",
    "                pID INT,\n",
    "                imp_date DATE,\n",
    "                PRIMARY KEY (iID, pID)\n",
    "                )\n",
    "            ''')"
   ]
  },
  {
   "cell_type": "code",
   "execution_count": 161,
   "metadata": {
    "collapsed": true
   },
   "outputs": [],
   "source": [
    "cur.execute('''CREATE TABLE warranties (\n",
    "                cId INT,\n",
    "                pID INT,\n",
    "                ser_num CHAR(30),\n",
    "                reg_date DATE,\n",
    "                exp_date DATE,\n",
    "                PRIMARY KEY (cID, pID)\n",
    "                )\n",
    "            ''')"
   ]
  },
  {
   "cell_type": "markdown",
   "metadata": {},
   "source": [
    "These are useful functions for getting a date between a certain range. "
   ]
  },
  {
   "cell_type": "code",
   "execution_count": null,
   "metadata": {
    "collapsed": true
   },
   "outputs": [],
   "source": [
    "# Gets a random date between two dates\n",
    "def strTimeProp(start, end, format, prop):\n",
    "    \"\"\"Get a time at a proportion of a range of two formatted times.\n",
    "\n",
    "    start and end should be strings specifying times formated in the\n",
    "    given format (strftime-style), giving an interval [start, end].\n",
    "    prop specifies how a proportion of the interval to be taken after\n",
    "    start.  The returned time will be in the specified format.\n",
    "    \n",
    "    A demonstration of how to use this function\n",
    "    randomDate(\"1/1/2000\",\"1/1/2001\",r.random())\n",
    "    \n",
    "    Output is a timedate.date structure\n",
    "    \"\"\"\n",
    "\n",
    "    stime = time.mktime(time.strptime(start, format))\n",
    "    etime = time.mktime(time.strptime(end, format))\n",
    "\n",
    "    ptime = stime + prop * (etime - stime)\n",
    "\n",
    "    return time.strftime(format, time.localtime(ptime))\n",
    "\n",
    "# This is a helper function for strTimeProp\n",
    "def randomDate(start, end, prop):\n",
    "    return strTimeProp(start, end, '%Y-%m-%d', prop)\n",
    "\n",
    "# Adds somewhere up to a month to the start date\n",
    "def addMonth(start):\n",
    "    \"\"\" Assume we're in format '%Y-%m-%d', adds up to a month onto the \n",
    "    start date\n",
    "    Input string format date\n",
    "    Output timedate.date structure\n",
    "    \n",
    "    # How the function works\n",
    "    date = '2010-1-1'\n",
    "    newDate = addMonth(date)\n",
    "    print date\n",
    "    print newDate\n",
    "    \"\"\"\n",
    "    tempTime = time.mktime(time.strptime(start,'%Y-%m-%d'))\n",
    "    endTime = tempTime + 24*3600*7*4\n",
    "    tempTime = time.strftime('%Y-%m-%d', time.localtime(tempTime))\n",
    "    endTime = time.strftime('%Y-%m-%d', time.localtime(endTime))\n",
    "    \n",
    "    return randomDate(tempTime, endTime, r.random())\n",
    "\n",
    "def getWarrantyEnd(startDate,yearsValid):\n",
    "    \"\"\" Adds a number of years onto the given date. \n",
    "        Input string\n",
    "        Output timedate.date structure\n",
    "        \n",
    "        # Demonstration\n",
    "        date = '2010-1-1'\n",
    "        warrantyYears = 10\n",
    "        print date\n",
    "        print getWarrantyEnd(date,warrantyYears)\n",
    "    \"\"\"\n",
    "    tempTime = time.mktime(time.strptime(startDate,'%Y-%m-%d'))\n",
    "    tempTime = time.strftime('%Y-%m-%d', time.localtime(tempTime +\n",
    "                                            3600*24*7*52*yearsValid))\n",
    "    \n",
    "    return tempTime"
   ]
  },
  {
   "cell_type": "markdown",
   "metadata": {},
   "source": [
    "Now all tables have been created they need to be populated"
   ]
  },
  {
   "cell_type": "code",
   "execution_count": 166,
   "metadata": {
    "collapsed": false
   },
   "outputs": [
    {
     "name": "stdout",
     "output_type": "stream",
     "text": [
      "('cedric', 'clibbon', '+447453116', '1')\n"
     ]
    }
   ],
   "source": [
    "# Info for the Customer Table\n",
    "import random as r\n",
    "import time\n",
    "import datetime\n",
    "\n",
    "nProducts = 500\n",
    "nImporters = 10\n",
    "nCustomers = 400\n",
    "nWarranties = 200\n",
    "nModels = 20\n",
    "\n",
    "nameList = ['alex','barry','cedric','dave','eric','freddy','george',\n",
    "            'helen','isla','jim','kerry','larry','mona','neville',\n",
    "            'ophelia','pat','roger','steve','tash','will','xena!']\n",
    "surnameList = ['adams','brompton','clibbon','douglas','free','humphrey',\n",
    "               'iglasia','garcia','clifford','smith','jones']\n",
    "    \n",
    "\n",
    "\n",
    "def getCustomer(forename_list, surname_list):\n",
    "    forename = forename_list[r.randint(0, len(forename_list)-1)]\n",
    "    surname = surname_list[r.randint(0, len(surname_list)-1)]\n",
    "    mob_num = ['+']\n",
    "    for x in range(0,9):\n",
    "        mob_num.append(str(r.randint(0,9)))\n",
    "    region = str(r.randint(0,15))\n",
    "    return (forename, surname, \"\".join(mob_num), region)\n",
    "\n",
    "# Test the output\n",
    "testCustomer = getCustomer(nameList, surnameList)\n",
    "print testCustomer"
   ]
  },
  {
   "cell_type": "code",
   "execution_count": 170,
   "metadata": {
    "collapsed": false
   },
   "outputs": [],
   "source": [
    "for i in range(0,nCustomers):\n",
    "    temp = getCustomer(nameList, surnameList)\n",
    "    customer = {\n",
    "        'forename': temp[0],\n",
    "        'surname': temp[1],\n",
    "        'mob_num': temp[2],\n",
    "        'region': temp[3]\n",
    "        }\n",
    "    cur.execute('''INSERT into customers\n",
    "                (first_name, last_name, mob_number, region) \n",
    "                VALUES (%(forename)s, %(surname)s, %(mob_num)s, %(region)s)\n",
    "                ''', customer)"
   ]
  },
  {
   "cell_type": "code",
   "execution_count": 171,
   "metadata": {
    "collapsed": false
   },
   "outputs": [
    {
     "data": {
      "text/html": [
       "<div style=\"max-height:1000px;max-width:1500px;overflow:auto;\">\n",
       "<table border=\"1\" class=\"dataframe\">\n",
       "  <thead>\n",
       "    <tr style=\"text-align: right;\">\n",
       "      <th></th>\n",
       "      <th>cID</th>\n",
       "      <th>first_name</th>\n",
       "      <th>last_name</th>\n",
       "      <th>mob_number</th>\n",
       "      <th>region</th>\n",
       "    </tr>\n",
       "  </thead>\n",
       "  <tbody>\n",
       "    <tr>\n",
       "      <th>0</th>\n",
       "      <td>1</td>\n",
       "      <td>pat</td>\n",
       "      <td>clifford</td>\n",
       "      <td>+147873016</td>\n",
       "      <td>9</td>\n",
       "    </tr>\n",
       "    <tr>\n",
       "      <th>1</th>\n",
       "      <td>2</td>\n",
       "      <td>dave</td>\n",
       "      <td>garcia</td>\n",
       "      <td>+206650059</td>\n",
       "      <td>3</td>\n",
       "    </tr>\n",
       "    <tr>\n",
       "      <th>2</th>\n",
       "      <td>3</td>\n",
       "      <td>will</td>\n",
       "      <td>clibbon</td>\n",
       "      <td>+714976821</td>\n",
       "      <td>1</td>\n",
       "    </tr>\n",
       "    <tr>\n",
       "      <th>3</th>\n",
       "      <td>4</td>\n",
       "      <td>freddy</td>\n",
       "      <td>garcia</td>\n",
       "      <td>+031404058</td>\n",
       "      <td>12</td>\n",
       "    </tr>\n",
       "    <tr>\n",
       "      <th>4</th>\n",
       "      <td>5</td>\n",
       "      <td>neville</td>\n",
       "      <td>jones</td>\n",
       "      <td>+513214502</td>\n",
       "      <td>8</td>\n",
       "    </tr>\n",
       "  </tbody>\n",
       "</table>\n",
       "</div>"
      ],
      "text/plain": [
       "   cID first_name last_name  mob_number  region\n",
       "0    1        pat  clifford  +147873016       9\n",
       "1    2       dave    garcia  +206650059       3\n",
       "2    3       will   clibbon  +714976821       1\n",
       "3    4     freddy    garcia  +031404058      12\n",
       "4    5    neville     jones  +513214502       8"
      ]
     },
     "execution_count": 171,
     "metadata": {},
     "output_type": "execute_result"
    }
   ],
   "source": [
    "df = pd.read_sql('''SELECT * FROM customers''',con)\n",
    "df.head()"
   ]
  },
  {
   "cell_type": "code",
   "execution_count": 162,
   "metadata": {
    "collapsed": false
   },
   "outputs": [],
   "source": [
    "# For Importers Table - don't need to get anything as this is only\n",
    "# made up of the key for now\n",
    "\n",
    "# Make the importers table\n",
    "for i in range(0,nImporters):\n",
    "    imp_ident = ''.join([r.choice('0123456789ABCDEF') for x in range(12)])\n",
    "    cur.execute('''INSERT into importers (identity) values (%s)''', (imp_ident,))"
   ]
  },
  {
   "cell_type": "code",
   "execution_count": 163,
   "metadata": {
    "collapsed": false
   },
   "outputs": [
    {
     "data": {
      "text/html": [
       "<div style=\"max-height:1000px;max-width:1500px;overflow:auto;\">\n",
       "<table border=\"1\" class=\"dataframe\">\n",
       "  <thead>\n",
       "    <tr style=\"text-align: right;\">\n",
       "      <th></th>\n",
       "      <th>iID</th>\n",
       "      <th>identity</th>\n",
       "    </tr>\n",
       "  </thead>\n",
       "  <tbody>\n",
       "    <tr>\n",
       "      <th>0</th>\n",
       "      <td>1</td>\n",
       "      <td>BC9D919CF2BA</td>\n",
       "    </tr>\n",
       "    <tr>\n",
       "      <th>1</th>\n",
       "      <td>2</td>\n",
       "      <td>EE50714230A5</td>\n",
       "    </tr>\n",
       "    <tr>\n",
       "      <th>2</th>\n",
       "      <td>3</td>\n",
       "      <td>DE2C26AFF611</td>\n",
       "    </tr>\n",
       "    <tr>\n",
       "      <th>3</th>\n",
       "      <td>4</td>\n",
       "      <td>ABD893826CAF</td>\n",
       "    </tr>\n",
       "    <tr>\n",
       "      <th>4</th>\n",
       "      <td>5</td>\n",
       "      <td>F7EB674877ED</td>\n",
       "    </tr>\n",
       "    <tr>\n",
       "      <th>5</th>\n",
       "      <td>6</td>\n",
       "      <td>584F1F8B93B0</td>\n",
       "    </tr>\n",
       "    <tr>\n",
       "      <th>6</th>\n",
       "      <td>7</td>\n",
       "      <td>CE1ECFB9EF56</td>\n",
       "    </tr>\n",
       "    <tr>\n",
       "      <th>7</th>\n",
       "      <td>8</td>\n",
       "      <td>18D5F3C947B7</td>\n",
       "    </tr>\n",
       "    <tr>\n",
       "      <th>8</th>\n",
       "      <td>9</td>\n",
       "      <td>D89AAAD9CF37</td>\n",
       "    </tr>\n",
       "    <tr>\n",
       "      <th>9</th>\n",
       "      <td>10</td>\n",
       "      <td>8336F5B90C12</td>\n",
       "    </tr>\n",
       "  </tbody>\n",
       "</table>\n",
       "</div>"
      ],
      "text/plain": [
       "   iID      identity\n",
       "0    1  BC9D919CF2BA\n",
       "1    2  EE50714230A5\n",
       "2    3  DE2C26AFF611\n",
       "3    4  ABD893826CAF\n",
       "4    5  F7EB674877ED\n",
       "5    6  584F1F8B93B0\n",
       "6    7  CE1ECFB9EF56\n",
       "7    8  18D5F3C947B7\n",
       "8    9  D89AAAD9CF37\n",
       "9   10  8336F5B90C12"
      ]
     },
     "execution_count": 163,
     "metadata": {},
     "output_type": "execute_result"
    }
   ],
   "source": [
    "\n",
    "df = pd.read_sql('''SELECT * FROM importers''',con)\n",
    "df\n"
   ]
  },
  {
   "cell_type": "code",
   "execution_count": null,
   "metadata": {
    "collapsed": false
   },
   "outputs": [],
   "source": [
    "# cur.execute('''INSERT into importers DEFAULT VALUES''')\n",
    "# This doesn't work - WHY?"
   ]
  },
  {
   "cell_type": "code",
   "execution_count": null,
   "metadata": {
    "collapsed": false
   },
   "outputs": [],
   "source": [
    "### For Product_Seller\n",
    "# Get number of sellers\n",
    "df = pd.read_sql('''SELECT * FROM importers''', con)\n",
    "for i in range(0,nProducts):\n",
    "    print 'a'\n",
    "    \n",
    "\n",
    "# For Product\n",
    "\n",
    "# For Warranty"
   ]
  },
  {
   "cell_type": "code",
   "execution_count": null,
   "metadata": {
    "collapsed": true
   },
   "outputs": [],
   "source": [
    "cur.execute('''INSERT into customers (first_name,\n",
    "                last_name, mob_number, region)\n",
    "                values (%s, %s, %s, %s)''',\n",
    "            ('joe','bloggs','+44123456789','0'))"
   ]
  },
  {
   "cell_type": "code",
   "execution_count": null,
   "metadata": {
    "collapsed": false
   },
   "outputs": [],
   "source": [
    "# For Models Table\n",
    "def getProduct_model():\n",
    "    if r.randint(0,1) == 0:\n",
    "        is_verified = True\n",
    "    else:\n",
    "        is_verified = False\n",
    "    model = ''.join([r.choice('0123456789ABCDEF') for x in range(6)])\n",
    "    return (is_verified, model)        "
   ]
  },
  {
   "cell_type": "code",
   "execution_count": 164,
   "metadata": {
    "collapsed": false
   },
   "outputs": [],
   "source": [
    "for i in range(0,nModels):\n",
    "    temp = getProduct_model()\n",
    "    product_model = {\n",
    "        'is_verified': temp[0],\n",
    "        'model': temp[1]\n",
    "    }\n",
    "    cur.execute('''INSERT into product_models\n",
    "                (is_verified, model) \n",
    "                VALUES (%(is_verified)s, %(model)s)\n",
    "                ''', product_model)"
   ]
  },
  {
   "cell_type": "code",
   "execution_count": 165,
   "metadata": {
    "collapsed": false
   },
   "outputs": [
    {
     "data": {
      "text/html": [
       "<div style=\"max-height:1000px;max-width:1500px;overflow:auto;\">\n",
       "<table border=\"1\" class=\"dataframe\">\n",
       "  <thead>\n",
       "    <tr style=\"text-align: right;\">\n",
       "      <th></th>\n",
       "      <th>mID</th>\n",
       "      <th>model</th>\n",
       "      <th>is_verified</th>\n",
       "    </tr>\n",
       "  </thead>\n",
       "  <tbody>\n",
       "    <tr>\n",
       "      <th>0</th>\n",
       "      <td>1</td>\n",
       "      <td>566265</td>\n",
       "      <td>0</td>\n",
       "    </tr>\n",
       "    <tr>\n",
       "      <th>1</th>\n",
       "      <td>2</td>\n",
       "      <td>50498F</td>\n",
       "      <td>1</td>\n",
       "    </tr>\n",
       "    <tr>\n",
       "      <th>2</th>\n",
       "      <td>3</td>\n",
       "      <td>8FE3A3</td>\n",
       "      <td>0</td>\n",
       "    </tr>\n",
       "    <tr>\n",
       "      <th>3</th>\n",
       "      <td>4</td>\n",
       "      <td>2BE3F7</td>\n",
       "      <td>1</td>\n",
       "    </tr>\n",
       "    <tr>\n",
       "      <th>4</th>\n",
       "      <td>5</td>\n",
       "      <td>CDEDF3</td>\n",
       "      <td>0</td>\n",
       "    </tr>\n",
       "    <tr>\n",
       "      <th>5</th>\n",
       "      <td>6</td>\n",
       "      <td>6490D2</td>\n",
       "      <td>1</td>\n",
       "    </tr>\n",
       "    <tr>\n",
       "      <th>6</th>\n",
       "      <td>7</td>\n",
       "      <td>88BE21</td>\n",
       "      <td>1</td>\n",
       "    </tr>\n",
       "    <tr>\n",
       "      <th>7</th>\n",
       "      <td>8</td>\n",
       "      <td>66C940</td>\n",
       "      <td>0</td>\n",
       "    </tr>\n",
       "    <tr>\n",
       "      <th>8</th>\n",
       "      <td>9</td>\n",
       "      <td>DE1312</td>\n",
       "      <td>0</td>\n",
       "    </tr>\n",
       "    <tr>\n",
       "      <th>9</th>\n",
       "      <td>10</td>\n",
       "      <td>1BA753</td>\n",
       "      <td>1</td>\n",
       "    </tr>\n",
       "  </tbody>\n",
       "</table>\n",
       "</div>"
      ],
      "text/plain": [
       "   mID   model  is_verified\n",
       "0    1  566265            0\n",
       "1    2  50498F            1\n",
       "2    3  8FE3A3            0\n",
       "3    4  2BE3F7            1\n",
       "4    5  CDEDF3            0\n",
       "5    6  6490D2            1\n",
       "6    7  88BE21            1\n",
       "7    8  66C940            0\n",
       "8    9  DE1312            0\n",
       "9   10  1BA753            1"
      ]
     },
     "execution_count": 165,
     "metadata": {},
     "output_type": "execute_result"
    }
   ],
   "source": [
    "df = pd.read_sql('''SELECT * FROM product_models''',con)\n",
    "df.head(10)"
   ]
  },
  {
   "cell_type": "markdown",
   "metadata": {},
   "source": [
    "Now add in the product sellers. This is the order it should actually occur in, and the creation of a product will occur at the same time."
   ]
  },
  {
   "cell_type": "code",
   "execution_count": null,
   "metadata": {
    "collapsed": true
   },
   "outputs": [],
   "source": [
    "# A function to create a product instance. "
   ]
  }
 ],
 "metadata": {
  "kernelspec": {
   "display_name": "Python 2",
   "language": "python",
   "name": "python2"
  },
  "language_info": {
   "codemirror_mode": {
    "name": "ipython",
    "version": 2
   },
   "file_extension": ".py",
   "mimetype": "text/x-python",
   "name": "python",
   "nbconvert_exporter": "python",
   "pygments_lexer": "ipython2",
   "version": "2.7.6"
  }
 },
 "nbformat": 4,
 "nbformat_minor": 0
}
