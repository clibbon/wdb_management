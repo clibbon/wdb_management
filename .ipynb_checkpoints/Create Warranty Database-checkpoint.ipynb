{
 "metadata": {
  "name": "",
  "signature": "sha256:cd09f972350adf2474f973c815a7e2f24553832bb0778ed2ef438d9447924aee"
 },
 "nbformat": 3,
 "nbformat_minor": 0,
 "worksheets": []
}